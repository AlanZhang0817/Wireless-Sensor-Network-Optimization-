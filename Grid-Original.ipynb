{
 "cells": [
  {
   "cell_type": "code",
   "execution_count": null,
   "metadata": {},
   "outputs": [],
   "source": [
    "'''PLEASE SPECIFY YOUR PARAMETERS HERE'''\n",
    "\n",
    "#number of nodes to place\n",
    "#please input a PERFECT SQUARE so that the nodes can be distributed evenly\n",
    "nodesToPlace = 49\n",
    "\n",
    "#side of you area to simulate\n",
    "#the true area will be a square array with your input as its side lengths\n",
    "playgroundSide = 30\n",
    "\n",
    "#algorithm to use \n",
    "#please use either \"DFS\" or \"JSE\"\n",
    "algo = \"DFS\"\n",
    "\n",
    "'''After the input is done, please press Kernel-->Restart & Run All '''"
   ]
  },
  {
   "cell_type": "code",
   "execution_count": null,
   "metadata": {
    "nbpresent": {
     "id": "f21a6849-a348-4432-9e73-4ee61ef82547"
    }
   },
   "outputs": [],
   "source": [
    "import numpy as np\n",
    "import scipy as sp\n",
    "from scipy import stats\n",
    "from scipy import integrate\n",
    "from sympy.solvers import solve\n",
    "from sympy import Symbol, N\n",
    "from sympy import Poly\n",
    "from sympy.solvers.inequalities import solve_poly_inequality\n",
    "import matplotlib.pyplot as plt"
   ]
  },
  {
   "cell_type": "code",
   "execution_count": null,
   "metadata": {},
   "outputs": [],
   "source": [
    "class SNode:\n",
    "    def __init__(self, x, y, ID, lambdai):\n",
    "        \n",
    "        #initialize off sensor, location and decision thresh\n",
    "        self.state = -1\n",
    "        self.Xi = x\n",
    "        self.Yi = y\n",
    "        self.id = ID\n",
    "        self.thresh = lambdai\n",
    "        \n",
    "    def distance(self, x1,y1,x2,y2):\n",
    "        return np.sqrt((x1-x2)**2+(y1-y2)**2)\n",
    "    \n",
    "    #polynomial decaying signal\n",
    "    def signalPoly(self,x, y, b=1, a=4, en=10000):\n",
    "        return 1000000000000000 if (x==self.Xi and y==self.Yi) else b*en/(np.sqrt((x-self.Xi)**2.0+(y-self.Yi)**2.0)**(a))\n",
    "    \n",
    "    #gaussian decay (exponential of squared distance)\n",
    "    def signal(self, x, y, sigmasqr=4, Tmax=1000):\n",
    "        return Tmax*np.exp(-self.distance(x, y, self.Xi, self.Yi)**2/(2*sigmasqr))\n",
    "    \n",
    "    #exponential-of-inverse-distance decay\n",
    "    def signal(self, x, y, Tmax=10, Lsqr = 1):\n",
    "        return Tmax*(1-np.exp(-Lsqr/self.distance(x, y, self.Xi, self.Yi)))\n",
    "        \n",
    "    def PDInt(self, msmt, x, y, sigma=1):\n",
    "        \n",
    "        #prob density of PFi\n",
    "        result = (1/(np.sqrt(2*np.pi)*sigma))\n",
    "        result *= np.exp(-(msmt-np.sqrt(self.signal(x, y)))**2/(2*sigma**2))\n",
    "        return result\n",
    "        \n",
    "    def PDi(self, xsig, ysig, lambdai, sigma=1):\n",
    "        \n",
    "        #integrate PFi from the given decision threshold\n",
    "        self.thresh = lambdai\n",
    "        res = integrate.quad(self.PDInt, self.thresh, np.inf, args = (xsig, ysig))[0]\n",
    "        return res\n",
    "        "
   ]
  },
  {
   "cell_type": "code",
   "execution_count": null,
   "metadata": {
    "nbpresent": {
     "id": "c53ef6ff-fec5-4981-a91b-d8b62073ecd7"
    }
   },
   "outputs": [],
   "source": [
    "class GridMap:\n",
    "    def __init__(self, dim, alphathresh, num, std=1.0):\n",
    "        \n",
    "        #initialze grid\n",
    "        self.grid = np.zeros((dim,dim))\n",
    "        self.size = dim\n",
    "        \n",
    "        #initialize decision threshold, std of PFi, decision boundary\n",
    "        self.AlphaZero = alphathresh\n",
    "        self.alpha = -100\n",
    "        self.numNode = num\n",
    "        self.sigma = std\n",
    "        self.decisionBound = np.zeros((dim,dim))\n",
    "        \n",
    "        #active nodes and how many there are\n",
    "        self.activeNodeNum = 0\n",
    "        self.activeNode = []\n",
    "        \n",
    "        #initialize nodes\n",
    "        self.nodeArray = []\n",
    "        side = int(np.sqrt(self.numNode))\n",
    "        interval = dim/(side-1)-1\n",
    "        for i in range(0, side):\n",
    "            for j in range(0,side):\n",
    "                self.nodeArray.append(SNode(i*interval, j*interval, i*side+j, self.decisionBound[i*interval,j*interval]))\n",
    "#                 print self.nodeArray[-1].Xi*interval, self.nodeArray[-1].Yi*interval, self.nodeArray[-1].id\n",
    "    \n",
    "    def getPFi(self):\n",
    "\n",
    "        #solve for PFi of each node given the requirement of system PF\n",
    "        alpha0 = Symbol('alpha0',real=True)\n",
    "        prob = 0\n",
    "        \n",
    "        #build the sum of probabilities\n",
    "        for i in range(self.activeNodeNum/2+1,self.activeNodeNum+1):\n",
    "            prob += ((1-alpha0)**(self.activeNodeNum-i)) * (alpha0**i)\n",
    "        prob -= self.AlphaZero\n",
    "        \n",
    "        #solve the polynomila of PFi = apha\n",
    "        res = solve_poly_inequality(Poly(prob, alpha0), '==')\n",
    "        \n",
    "        #find the positive solution\n",
    "        for i in N(res[0]).args:\n",
    "            if i>0:\n",
    "                self.alpha = i\n",
    "        return self.alpha\n",
    "    \n",
    "    def solveLambda(self):\n",
    "        for i in range(self.size):\n",
    "            for j in range(self.size):\n",
    "                self.decisionBound[i,j] = stats.norm.ppf(float(1.0-self.alpha), loc=0, scale=self.sigma)\n",
    "        return self.decisionBound \n",
    "\n",
    "    \n",
    "    def activateNode(self, ID):\n",
    "        self.nodeArray[ID].state = 1\n",
    "        self.activeNode.append(ID)\n",
    "        self.activeNodeNum += 1\n",
    "        print self.activeNode\n",
    "        \n",
    "        self.getPFi()\n",
    "        self.solveLambda()"
   ]
  },
  {
   "cell_type": "code",
   "execution_count": null,
   "metadata": {},
   "outputs": [],
   "source": [
    "# randomly activate a node\n",
    "# while PDmin < Beta, do {\n",
    "#    find the sample point such that if there is an event at that point, the system has PDmin\n",
    "#    activate the sensor closest to that point\n",
    "#    compute local PF using getPFi\n",
    "#    compute lambdai\n",
    "#    compute local PDi, and combine to make PD\n",
    "# }\n",
    "\n",
    "class CentralControl:\n",
    "    def __init__(self, alphathresh, betathresh, num, std=1):\n",
    "        global playgroundSide\n",
    "        self.grid = GridMap(playgroundSide, alphathresh, num, std=1)\n",
    "        self.SysPD = 0\n",
    "        self.beta = betathresh\n",
    "        \n",
    "    def getPD(self, x, y, nodes):\n",
    "        global algo\n",
    "        if algo==\"DFS\":\n",
    "            return self.getPDDFS(x, y, nodes)\n",
    "        elif algo==\"JSE\":\n",
    "            return self.getPDJSE(x, y, nodes)\n",
    "\n",
    "    def getPDDFS(self, x, y, nodes):\n",
    "        if len(nodes)==0:\n",
    "            return\n",
    "        global solutions \n",
    "        solutions = 0.0\n",
    "        \n",
    "        self.getPDHelper(x, y, nodes, 1.0, 0, 0)\n",
    "        return solutions\n",
    "    \n",
    "    def getPDHelper(self, x, y, nodes, term, index, counter):\n",
    "  \n",
    "        if index==len(nodes):\n",
    "            if counter > int(len(nodes)/2):\n",
    "                global solutions\n",
    "                solutions += term\n",
    "            return\n",
    "        \n",
    "        termtemp = term*self.grid.nodeArray[nodes[index]].PDi(x, y, self.grid.decisionBound[x,y])\n",
    "        self.getPDHelper(x, y, nodes, termtemp, index+1, counter+1)\n",
    "        \n",
    "        termtemp = term*(1-self.grid.nodeArray[nodes[index]].PDi(x, y, self.grid.decisionBound[x,y]))\n",
    "        self.getPDHelper(x, y, nodes, termtemp, index+1, counter)\n",
    "        \n",
    "    \n",
    "    def getPDJSE(self, x, y, nodes):\n",
    "        majority = int(self.grid.activeNodeNum / 2)+1\n",
    "        denom = 0\n",
    "        for i in range(majority, self.grid.activeNodeNum+1):\n",
    "            denom += np.math.factorial(self.grid.activeNodeNum) / np.math.factorial(i) / np.math.factorial(self.grid.activeNodeNum-i)\n",
    "        \n",
    "        logPDi = np.zeros(self.grid.numNode)\n",
    "        minuslogPDi = np.zeros(self.grid.numNode)\n",
    "        \n",
    "        for i in nodes:\n",
    "            if self.grid.nodeArray[i].state==1:\n",
    "                logPDi[i] = np.log(self.grid.nodeArray[i].PDi(x,y,self.grid.decisionBound[x,y]))\n",
    "                minuslogPDi[i] = np.log(1-self.grid.nodeArray[i].PDi(x,y,self.grid.decisionBound[x,y]))\n",
    "        \n",
    "        A = 0\n",
    "        for i in range(majority-1, self.grid.activeNodeNum):\n",
    "            A += np.math.factorial(self.grid.activeNodeNum-1) / np.math.factorial(i) / np.math.factorial(self.grid.activeNodeNum-1-i)\n",
    "            \n",
    "        B = 0\n",
    "        for i in range(0, majority-1):\n",
    "            B += np.math.factorial(self.grid.activeNodeNum-1) / np.math.factorial(i) / np.math.factorial(majority-2-i)\n",
    "        \n",
    "        LB = A*sum(logPDi) + B*sum(minuslogPDi)\n",
    "\n",
    "        return np.exp(LB/denom + np.log(denom))\n",
    "        \n",
    "    def run(self):\n",
    "        first = np.random.randint(low=0, high=self.grid.numNode)\n",
    "        grid.activate(first)\n",
    "        return\n",
    "    \n",
    "    def distFromActive(self, x,y):\n",
    "        minDist = np.inf\n",
    "        for i in self.grid.activeNode:\n",
    "            iDist = self.distance(self.grid.nodeArray[i].Xi, self.grid.nodeArray[i].Yi, x, y)\n",
    "            minDist = iDist if iDist<minDist else minDist\n",
    "        return minDist\n",
    "    \n",
    "    def distance(self, x1,y1,x2,y2):\n",
    "        return np.sqrt((x1-x2)**2+(y1-y2)**2)\n",
    "    \n",
    "    def getNeighborNode(self, x, y):\n",
    "        MinDist = np.inf\n",
    "        MinID = -1\n",
    "        for i in self.grid.nodeArray:\n",
    "            if (i.state!=1):\n",
    "                idist = self.distance(x,y,i.Xi, i.Yi) - self.distFromActive(i.Xi, i.Yi)\n",
    "                if (idist<MinDist):\n",
    "                    MinDist = idist\n",
    "                    MinID = i.id\n",
    "        return MinID\n",
    "        \n",
    "        \n",
    "    def activate(self, SNid):\n",
    "        eventSig = np.zeros((self.grid.size,self.grid.size))\n",
    "        self.grid.activateNode(SNid)\n",
    "        PDMinSig = -1\n",
    "        \n",
    "        heatmap = plt.imshow(eventSig, cmap='hot', interpolation='nearest')\n",
    "        plt.colorbar(heatmap)\n",
    "        plt.show()\n",
    "        \n",
    "        \n",
    "        PDMinPoint = (-1,-1)\n",
    "        PDMinSig = np.inf\n",
    "        for i in range(0,self.grid.size):\n",
    "            for j in range(0, self.grid.size):\n",
    "                eventSig[i,j] = self.getPD(i,j,self.grid.activeNode)\n",
    "                \n",
    "                if (eventSig[i,j] < PDMinSig):\n",
    "                    PDMinPoint = (i,j)\n",
    "                    PDMinSig = eventSig[i,j]\n",
    "        \n",
    "        toTurnOn = self.getNeighborNode(PDMinPoint[0],PDMinPoint[1])\n",
    "        print toTurnOn\n",
    "\n",
    "        self.grid.activateNode(toTurnOn)\n",
    "\n",
    "        while (PDMinSig < self.beta):\n",
    "            heatmap = plt.imshow(eventSig, cmap='hot', interpolation='nearest')\n",
    "            plt.colorbar(heatmap)\n",
    "            plt.show()\n",
    "            \n",
    "            if (self.grid.activeNodeNum == self.grid.numNode):\n",
    "                return -1\n",
    "            \n",
    "            PDMinPoint = (-1,-1)\n",
    "            PDMinSig = np.inf\n",
    "            for i in range(0,self.grid.size):\n",
    "                for j in range(0, self.grid.size):\n",
    "                    eventSig[i,j] = self.getPD(i,j,self.grid.activeNode)\n",
    "                    if (eventSig[i,j] < PDMinSig):\n",
    "                        PDMinPoint = (i,j)\n",
    "                        PDMinSig = eventSig[i,j]\n",
    "            print PDMinSig, \"@\", PDMinPoint\n",
    "            \n",
    "            toTurnOn = self.getNeighborNode(PDMinPoint[0],PDMinPoint[1])\n",
    "            print toTurnOn\n",
    "            \n",
    "            self.grid.activateNode(toTurnOn)\n",
    "\n",
    "        heatmap = plt.imshow(eventSig, cmap='hot', interpolation='nearest')\n",
    "        plt.colorbar(heatmap)\n",
    "        plt.show()    \n",
    "        for i in self.grid.nodeArray:\n",
    "            print i.state\n",
    "        \n",
    "        return 0\n",
    "            "
   ]
  },
  {
   "cell_type": "code",
   "execution_count": null,
   "metadata": {
    "nbpresent": {
     "id": "38ae048b-e5ca-4635-9f70-4e881de397e4"
    },
    "scrolled": false
   },
   "outputs": [],
   "source": [
    "if __name__ == \"__main__\":\n",
    "    global nodesToPlace\n",
    "    print nodesToPlace\n",
    "    control = CentralControl(0.1,0.9, nodesToPlace)\n",
    "    sig = np.random.randint(0, nodesToPlace)\n",
    "    control.activate(sig)\n",
    "    "
   ]
  },
  {
   "cell_type": "code",
   "execution_count": null,
   "metadata": {},
   "outputs": [],
   "source": []
  }
 ],
 "metadata": {
  "kernelspec": {
   "display_name": "Python [conda root]",
   "language": "python",
   "name": "conda-root-py"
  },
  "language_info": {
   "codemirror_mode": {
    "name": "ipython",
    "version": 2
   },
   "file_extension": ".py",
   "mimetype": "text/x-python",
   "name": "python",
   "nbconvert_exporter": "python",
   "pygments_lexer": "ipython2",
   "version": "2.7.15"
  },
  "nbpresent": {
   "slides": {
    "5c22f9c6-871b-46fa-97e9-65bdfb832ffd": {
     "id": "5c22f9c6-871b-46fa-97e9-65bdfb832ffd",
     "prev": "dc5134fb-2f64-40ae-87d6-ad7a47685863",
     "regions": {
      "b2d01fba-e49a-44cb-a6e0-756ed1e710cc": {
       "attrs": {
        "height": 0.8,
        "width": 0.8,
        "x": 0.1,
        "y": 0.1
       },
       "content": {
        "cell": "c4d1ec29-0501-41b4-ad7a-51e2bc738ab6",
        "part": "whole"
       },
       "id": "b2d01fba-e49a-44cb-a6e0-756ed1e710cc"
      }
     }
    },
    "8045d488-bdf3-4959-a4a9-2478df1da1e1": {
     "id": "8045d488-bdf3-4959-a4a9-2478df1da1e1",
     "prev": null,
     "regions": {
      "f2e03cbf-ffd6-4a69-bf2d-9db152c4c301": {
       "attrs": {
        "height": 0.8,
        "width": 0.8,
        "x": 0.1,
        "y": 0.1
       },
       "content": {
        "cell": "6c3dde79-4cf6-44dd-9ed4-c60623dfa327",
        "part": "whole"
       },
       "id": "f2e03cbf-ffd6-4a69-bf2d-9db152c4c301"
      }
     }
    },
    "dc5134fb-2f64-40ae-87d6-ad7a47685863": {
     "id": "dc5134fb-2f64-40ae-87d6-ad7a47685863",
     "prev": "8045d488-bdf3-4959-a4a9-2478df1da1e1",
     "regions": {
      "8711b5ed-639c-482e-a71f-7062b35784f3": {
       "attrs": {
        "height": 0.8,
        "width": 0.8,
        "x": 0.1,
        "y": 0.1
       },
       "content": {
        "cell": "7612c495-31f9-4fbf-9161-3d1fdb96d169",
        "part": "whole"
       },
       "id": "8711b5ed-639c-482e-a71f-7062b35784f3"
      }
     }
    }
   },
   "themes": {
    "default": "661efe31-2a7f-4485-b466-74c4bba84d9a",
    "theme": {}
   }
  },
  "varInspector": {
   "cols": {
    "lenName": 16,
    "lenType": 16,
    "lenVar": 40
   },
   "kernels_config": {
    "python": {
     "delete_cmd_postfix": "",
     "delete_cmd_prefix": "del ",
     "library": "var_list.py",
     "varRefreshCmd": "print(var_dic_list())"
    },
    "r": {
     "delete_cmd_postfix": ") ",
     "delete_cmd_prefix": "rm(",
     "library": "var_list.r",
     "varRefreshCmd": "cat(var_dic_list()) "
    }
   },
   "oldHeight": 390,
   "position": {
    "height": "40px",
    "left": "918px",
    "right": "20px",
    "top": "79px",
    "width": "353px"
   },
   "types_to_exclude": [
    "module",
    "function",
    "builtin_function_or_method",
    "instance",
    "_Feature"
   ],
   "varInspector_section_display": "none",
   "window_display": true
  }
 },
 "nbformat": 4,
 "nbformat_minor": 2
}
